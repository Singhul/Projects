{
  "nbformat": 4,
  "nbformat_minor": 0,
  "metadata": {
    "colab": {
      "provenance": [],
      "include_colab_link": true
    },
    "kernelspec": {
      "name": "python3",
      "display_name": "Python 3"
    },
    "accelerator": "GPU",
    "gpuClass": "standard"
  },
  "cells": [
    {
      "cell_type": "markdown",
      "metadata": {
        "id": "view-in-github",
        "colab_type": "text"
      },
      "source": [
        "<a href=\"https://colab.research.google.com/github/Singhul/Projects/blob/main/Major_Project_2K23.ipynb\" target=\"_parent\"><img src=\"https://colab.research.google.com/assets/colab-badge.svg\" alt=\"Open In Colab\"/></a>"
      ]
    },
    {
      "cell_type": "markdown",
      "metadata": {
        "id": "G7Evp4GOUt7Z"
      },
      "source": [
        "# [How to do Transfer learning with Efficientnet](https://www.dlology.com/blog/transfer-learning-with-efficientnet/) | DLology"
      ]
    },
    {
      "cell_type": "markdown",
      "metadata": {
        "id": "qYbI0TGpL6Jd"
      },
      "source": [
        "## Imports"
      ]
    },
    {
      "cell_type": "code",
      "source": [
        "pip install pillow --upgrade"
      ],
      "metadata": {
        "id": "h8TQMT1hOJJR",
        "colab": {
          "base_uri": "https://localhost:8080/",
          "height": 302
        },
        "outputId": "c3425320-34bf-415c-f9d8-087a5c03c25d"
      },
      "execution_count": 1,
      "outputs": [
        {
          "output_type": "stream",
          "name": "stdout",
          "text": [
            "Looking in indexes: https://pypi.org/simple, https://us-python.pkg.dev/colab-wheels/public/simple/\n",
            "Requirement already satisfied: pillow in /usr/local/lib/python3.9/dist-packages (8.4.0)\n",
            "Collecting pillow\n",
            "  Downloading Pillow-9.5.0-cp39-cp39-manylinux_2_28_x86_64.whl (3.4 MB)\n",
            "\u001b[2K     \u001b[90m━━━━━━━━━━━━━━━━━━━━━━━━━━━━━━━━━━━━━━━━\u001b[0m \u001b[32m3.4/3.4 MB\u001b[0m \u001b[31m20.5 MB/s\u001b[0m eta \u001b[36m0:00:00\u001b[0m\n",
            "\u001b[?25hInstalling collected packages: pillow\n",
            "  Attempting uninstall: pillow\n",
            "    Found existing installation: Pillow 8.4.0\n",
            "    Uninstalling Pillow-8.4.0:\n",
            "      Successfully uninstalled Pillow-8.4.0\n",
            "Successfully installed pillow-9.5.0\n"
          ]
        },
        {
          "output_type": "display_data",
          "data": {
            "application/vnd.colab-display-data+json": {
              "pip_warning": {
                "packages": [
                  "PIL"
                ]
              }
            }
          },
          "metadata": {}
        }
      ]
    },
    {
      "cell_type": "code",
      "metadata": {
        "id": "SmzQmZdKDfSF"
      },
      "source": [
        "from tensorflow.keras import models\n",
        "from tensorflow.keras import layers\n",
        "from tensorflow.keras import optimizers\n",
        "import os\n",
        "import glob\n",
        "import shutil\n",
        "import sys\n",
        "import numpy as np\n",
        "from skimage.io import imread\n",
        "import matplotlib.pyplot as plt\n",
        "from IPython.display import Image\n",
        "%matplotlib inline"
      ],
      "execution_count": 1,
      "outputs": []
    },
    {
      "cell_type": "markdown",
      "metadata": {
        "id": "VpdwDI3vL8sQ"
      },
      "source": [
        "## Hyper parameters"
      ]
    },
    {
      "cell_type": "code",
      "metadata": {
        "id": "mp4TOw5rJs0M"
      },
      "source": [
        "batch_size = 48\n",
        "\n",
        "width = 150\n",
        "height = 150\n",
        "epochs = 20\n",
        "NUM_TRAIN = 2000\n",
        "NUM_TEST = 1000\n",
        "dropout_rate = 0.2\n",
        "input_shape = (height, width, 3)"
      ],
      "execution_count": 2,
      "outputs": []
    },
    {
      "cell_type": "markdown",
      "metadata": {
        "id": "R9S4UyubKPUc"
      },
      "source": [
        "## Clone **efficientnet** repo"
      ]
    },
    {
      "cell_type": "code",
      "metadata": {
        "id": "mnyJvYF_yXLo",
        "colab": {
          "base_uri": "https://localhost:8080/"
        },
        "outputId": "264b4df7-ba01-4167-9873-80fa019a98e5"
      },
      "source": [
        "import os\n",
        "%cd /content\n",
        "if not os.path.isdir(\"efficientnet_keras_transfer_learning\"):\n",
        "  !git clone https://github.com/Singhul/efficientnet_model\n"
      ],
      "execution_count": 3,
      "outputs": [
        {
          "output_type": "stream",
          "name": "stdout",
          "text": [
            "/content\n",
            "Cloning into 'efficientnet_model'...\n",
            "remote: Enumerating objects: 191, done.\u001b[K\n",
            "remote: Counting objects: 100% (17/17), done.\u001b[K\n",
            "remote: Compressing objects: 100% (17/17), done.\u001b[K\n",
            "remote: Total 191 (delta 9), reused 0 (delta 0), pack-reused 174\u001b[K\n",
            "Receiving objects: 100% (191/191), 5.45 MiB | 22.32 MiB/s, done.\n",
            "Resolving deltas: 100% (110/110), done.\n"
          ]
        }
      ]
    },
    {
      "cell_type": "code",
      "source": [
        "%cd efficientnet_model/"
      ],
      "metadata": {
        "id": "K6Ib9M9GedOS",
        "colab": {
          "base_uri": "https://localhost:8080/"
        },
        "outputId": "13720a60-3d8f-4c09-f194-69c93435e9a1"
      },
      "execution_count": 4,
      "outputs": [
        {
          "output_type": "stream",
          "name": "stdout",
          "text": [
            "/content/efficientnet_model\n"
          ]
        }
      ]
    },
    {
      "cell_type": "markdown",
      "metadata": {
        "id": "oO7kxxRaMC2q"
      },
      "source": [
        "## Import efficientnet and load the conv base model"
      ]
    },
    {
      "cell_type": "code",
      "metadata": {
        "id": "vq00KoYUzOSc"
      },
      "source": [
        "# Options: EfficientNetB0, EfficientNetB1, EfficientNetB2, EfficientNetB3\n",
        "# Higher the number, the more complex the model is.\n",
        "from efficientnet import EfficientNetB0 as Net\n",
        "from efficientnet import center_crop_and_resize, preprocess_input"
      ],
      "execution_count": 5,
      "outputs": []
    },
    {
      "cell_type": "code",
      "metadata": {
        "id": "PeETTKsszRj0",
        "colab": {
          "base_uri": "https://localhost:8080/"
        },
        "outputId": "171c8a77-d29a-4b15-834b-42666ff4e869"
      },
      "source": [
        "# loading pretrained conv base model\n",
        "conv_base = Net(weights='imagenet', include_top=False, input_shape=input_shape)"
      ],
      "execution_count": 6,
      "outputs": [
        {
          "output_type": "stream",
          "name": "stdout",
          "text": [
            "Downloading data from https://github.com/qubvel/efficientnet/releases/download/v0.0.1/efficientnet-b0_imagenet_1000_notop.h5\n",
            "16717576/16717576 [==============================] - 0s 0us/step\n"
          ]
        }
      ]
    },
    {
      "cell_type": "code",
      "source": [
        "from google.colab import files\n",
        "files.upload()"
      ],
      "metadata": {
        "id": "ZzoPnsa8lIZl",
        "colab": {
          "base_uri": "https://localhost:8080/",
          "height": 92
        },
        "outputId": "264e75c4-26de-4da9-dcd5-ea3cd9f43bcd"
      },
      "execution_count": 7,
      "outputs": [
        {
          "output_type": "display_data",
          "data": {
            "text/plain": [
              "<IPython.core.display.HTML object>"
            ],
            "text/html": [
              "\n",
              "     <input type=\"file\" id=\"files-e27c0859-cebf-42cf-a3cd-cfb78b79e95e\" name=\"files[]\" multiple disabled\n",
              "        style=\"border:none\" />\n",
              "     <output id=\"result-e27c0859-cebf-42cf-a3cd-cfb78b79e95e\">\n",
              "      Upload widget is only available when the cell has been executed in the\n",
              "      current browser session. Please rerun this cell to enable.\n",
              "      </output>\n",
              "      <script>// Copyright 2017 Google LLC\n",
              "//\n",
              "// Licensed under the Apache License, Version 2.0 (the \"License\");\n",
              "// you may not use this file except in compliance with the License.\n",
              "// You may obtain a copy of the License at\n",
              "//\n",
              "//      http://www.apache.org/licenses/LICENSE-2.0\n",
              "//\n",
              "// Unless required by applicable law or agreed to in writing, software\n",
              "// distributed under the License is distributed on an \"AS IS\" BASIS,\n",
              "// WITHOUT WARRANTIES OR CONDITIONS OF ANY KIND, either express or implied.\n",
              "// See the License for the specific language governing permissions and\n",
              "// limitations under the License.\n",
              "\n",
              "/**\n",
              " * @fileoverview Helpers for google.colab Python module.\n",
              " */\n",
              "(function(scope) {\n",
              "function span(text, styleAttributes = {}) {\n",
              "  const element = document.createElement('span');\n",
              "  element.textContent = text;\n",
              "  for (const key of Object.keys(styleAttributes)) {\n",
              "    element.style[key] = styleAttributes[key];\n",
              "  }\n",
              "  return element;\n",
              "}\n",
              "\n",
              "// Max number of bytes which will be uploaded at a time.\n",
              "const MAX_PAYLOAD_SIZE = 100 * 1024;\n",
              "\n",
              "function _uploadFiles(inputId, outputId) {\n",
              "  const steps = uploadFilesStep(inputId, outputId);\n",
              "  const outputElement = document.getElementById(outputId);\n",
              "  // Cache steps on the outputElement to make it available for the next call\n",
              "  // to uploadFilesContinue from Python.\n",
              "  outputElement.steps = steps;\n",
              "\n",
              "  return _uploadFilesContinue(outputId);\n",
              "}\n",
              "\n",
              "// This is roughly an async generator (not supported in the browser yet),\n",
              "// where there are multiple asynchronous steps and the Python side is going\n",
              "// to poll for completion of each step.\n",
              "// This uses a Promise to block the python side on completion of each step,\n",
              "// then passes the result of the previous step as the input to the next step.\n",
              "function _uploadFilesContinue(outputId) {\n",
              "  const outputElement = document.getElementById(outputId);\n",
              "  const steps = outputElement.steps;\n",
              "\n",
              "  const next = steps.next(outputElement.lastPromiseValue);\n",
              "  return Promise.resolve(next.value.promise).then((value) => {\n",
              "    // Cache the last promise value to make it available to the next\n",
              "    // step of the generator.\n",
              "    outputElement.lastPromiseValue = value;\n",
              "    return next.value.response;\n",
              "  });\n",
              "}\n",
              "\n",
              "/**\n",
              " * Generator function which is called between each async step of the upload\n",
              " * process.\n",
              " * @param {string} inputId Element ID of the input file picker element.\n",
              " * @param {string} outputId Element ID of the output display.\n",
              " * @return {!Iterable<!Object>} Iterable of next steps.\n",
              " */\n",
              "function* uploadFilesStep(inputId, outputId) {\n",
              "  const inputElement = document.getElementById(inputId);\n",
              "  inputElement.disabled = false;\n",
              "\n",
              "  const outputElement = document.getElementById(outputId);\n",
              "  outputElement.innerHTML = '';\n",
              "\n",
              "  const pickedPromise = new Promise((resolve) => {\n",
              "    inputElement.addEventListener('change', (e) => {\n",
              "      resolve(e.target.files);\n",
              "    });\n",
              "  });\n",
              "\n",
              "  const cancel = document.createElement('button');\n",
              "  inputElement.parentElement.appendChild(cancel);\n",
              "  cancel.textContent = 'Cancel upload';\n",
              "  const cancelPromise = new Promise((resolve) => {\n",
              "    cancel.onclick = () => {\n",
              "      resolve(null);\n",
              "    };\n",
              "  });\n",
              "\n",
              "  // Wait for the user to pick the files.\n",
              "  const files = yield {\n",
              "    promise: Promise.race([pickedPromise, cancelPromise]),\n",
              "    response: {\n",
              "      action: 'starting',\n",
              "    }\n",
              "  };\n",
              "\n",
              "  cancel.remove();\n",
              "\n",
              "  // Disable the input element since further picks are not allowed.\n",
              "  inputElement.disabled = true;\n",
              "\n",
              "  if (!files) {\n",
              "    return {\n",
              "      response: {\n",
              "        action: 'complete',\n",
              "      }\n",
              "    };\n",
              "  }\n",
              "\n",
              "  for (const file of files) {\n",
              "    const li = document.createElement('li');\n",
              "    li.append(span(file.name, {fontWeight: 'bold'}));\n",
              "    li.append(span(\n",
              "        `(${file.type || 'n/a'}) - ${file.size} bytes, ` +\n",
              "        `last modified: ${\n",
              "            file.lastModifiedDate ? file.lastModifiedDate.toLocaleDateString() :\n",
              "                                    'n/a'} - `));\n",
              "    const percent = span('0% done');\n",
              "    li.appendChild(percent);\n",
              "\n",
              "    outputElement.appendChild(li);\n",
              "\n",
              "    const fileDataPromise = new Promise((resolve) => {\n",
              "      const reader = new FileReader();\n",
              "      reader.onload = (e) => {\n",
              "        resolve(e.target.result);\n",
              "      };\n",
              "      reader.readAsArrayBuffer(file);\n",
              "    });\n",
              "    // Wait for the data to be ready.\n",
              "    let fileData = yield {\n",
              "      promise: fileDataPromise,\n",
              "      response: {\n",
              "        action: 'continue',\n",
              "      }\n",
              "    };\n",
              "\n",
              "    // Use a chunked sending to avoid message size limits. See b/62115660.\n",
              "    let position = 0;\n",
              "    do {\n",
              "      const length = Math.min(fileData.byteLength - position, MAX_PAYLOAD_SIZE);\n",
              "      const chunk = new Uint8Array(fileData, position, length);\n",
              "      position += length;\n",
              "\n",
              "      const base64 = btoa(String.fromCharCode.apply(null, chunk));\n",
              "      yield {\n",
              "        response: {\n",
              "          action: 'append',\n",
              "          file: file.name,\n",
              "          data: base64,\n",
              "        },\n",
              "      };\n",
              "\n",
              "      let percentDone = fileData.byteLength === 0 ?\n",
              "          100 :\n",
              "          Math.round((position / fileData.byteLength) * 100);\n",
              "      percent.textContent = `${percentDone}% done`;\n",
              "\n",
              "    } while (position < fileData.byteLength);\n",
              "  }\n",
              "\n",
              "  // All done.\n",
              "  yield {\n",
              "    response: {\n",
              "      action: 'complete',\n",
              "    }\n",
              "  };\n",
              "}\n",
              "\n",
              "scope.google = scope.google || {};\n",
              "scope.google.colab = scope.google.colab || {};\n",
              "scope.google.colab._files = {\n",
              "  _uploadFiles,\n",
              "  _uploadFilesContinue,\n",
              "};\n",
              "})(self);\n",
              "</script> "
            ]
          },
          "metadata": {}
        },
        {
          "output_type": "stream",
          "name": "stdout",
          "text": [
            "Saving kaggle.json to kaggle.json\n"
          ]
        },
        {
          "output_type": "execute_result",
          "data": {
            "text/plain": [
              "{'kaggle.json': b'{\"username\":\"singhul\",\"key\":\"f6098be28d839647b22de0caed927bf6\"}'}"
            ]
          },
          "metadata": {},
          "execution_count": 7
        }
      ]
    },
    {
      "cell_type": "code",
      "source": [
        "!ls -lha kaggle.json\n",
        "!pip install -q kaggle # installing the kaggle package\n",
        "!mkdir -p ~/.kaggle # creating .kaggle folder where the key should be placed\n",
        "!cp kaggle.json ~/.kaggle/ # move the key to the folder\n",
        "!pwd # checking the present working directory"
      ],
      "metadata": {
        "id": "7ZQw8fn_lTi4",
        "colab": {
          "base_uri": "https://localhost:8080/"
        },
        "outputId": "3a126fb7-97a3-4ebe-8f61-e9142ee6f032"
      },
      "execution_count": 8,
      "outputs": [
        {
          "output_type": "stream",
          "name": "stdout",
          "text": [
            "-rw-r--r-- 1 root root 63 Apr 15 10:07 kaggle.json\n",
            "/content/efficientnet_model\n"
          ]
        }
      ]
    },
    {
      "cell_type": "code",
      "source": [
        "!kaggle datasets list"
      ],
      "metadata": {
        "id": "INchsOPylgQa",
        "colab": {
          "base_uri": "https://localhost:8080/"
        },
        "outputId": "9b23a667-010b-48c9-d291-12b9381bdbf1"
      },
      "execution_count": 9,
      "outputs": [
        {
          "output_type": "stream",
          "name": "stdout",
          "text": [
            "Warning: Your Kaggle API key is readable by other users on this system! To fix this, you can run 'chmod 600 /root/.kaggle/kaggle.json'\n",
            "ref                                                        title                                           size  lastUpdated          downloadCount  voteCount  usabilityRating  \n",
            "---------------------------------------------------------  ---------------------------------------------  -----  -------------------  -------------  ---------  ---------------  \n",
            "salvatorerastelli/spotify-and-youtube                      Spotify and Youtube                              9MB  2023-03-20 15:43:25           6637        253  1.0              \n",
            "erdemtaha/cancer-data                                      Cancer Data                                     49KB  2023-03-22 07:57:00           2389         63  1.0              \n",
            "ulrikthygepedersen/fastfood-nutrition                      Fastfood Nutrition                              12KB  2023-03-21 10:02:41           2476         50  1.0              \n",
            "lokeshparab/amazon-products-dataset                        Amazon Products Sales Dataset 2023              80MB  2023-03-26 10:45:19           2756         66  1.0              \n",
            "rkiattisak/student-performance-in-mathematics              Student performance prediction                   9KB  2023-03-12 04:32:56           7771        168  1.0              \n",
            "abhishekrp1517/online-retail-transactions-dataset          Online Retail transactions Dataset              29MB  2023-03-28 16:53:16           1126         44  0.9411765        \n",
            "ashishraut64/global-methane-emissions                      Global Emissions.                               31KB  2023-03-27 09:02:51           2329         49  1.0              \n",
            "ashishraut64/internet-users                                Global Internet users                          163KB  2023-03-29 12:25:13           1624         47  1.0              \n",
            "arnabchaki/popular-video-games-1980-2023                   Popular Video Games 1980 - 2023 🎮                1MB  2023-03-23 16:16:51           3299         99  1.0              \n",
            "dgoenrique/netflix-movies-and-tv-shows                     Netflix Movies and TV Shows                      2MB  2023-03-13 18:49:00           3546         86  1.0              \n",
            "priyanshuganwani09/entertainment-movies-tv-shows-database  Entertainment (movies, tv shows) Dataset        47KB  2023-04-02 17:52:36            821         29  1.0              \n",
            "muhammedzidan/car-prices-market                            Car Prices Market                              787KB  2023-04-01 10:07:17           1286         38  1.0              \n",
            "dgoenrique/amazon-prime-movies-and-tv-shows                Amazon Prime Movies and TV Shows                 4MB  2023-03-13 18:50:21           1180         32  1.0              \n",
            "lamiatabassum/top-50-us-tech-companies-2022-2023-dataset   USA Tech Companies Stats                         2KB  2023-03-25 06:06:20           1523         45  1.0              \n",
            "nidzsharma/us-mass-shootings-19822023                      Gun Violence, USA                               31KB  2023-03-28 06:32:25            822         29  0.9411765        \n",
            "edomingo/chatgpt-1000-daily-tweets                         #ChatGPT 1000 Daily 🐦 Tweets                     3MB  2023-04-14 22:31:56            404         32  1.0              \n",
            "usamabuttar/world-happiness-report-2005-present            World Happiness Report, 2005-Present           123KB  2023-03-25 17:38:26           1837         44  1.0              \n",
            "ivnlee/solar-energy-production                             Solar Energy Production                          3MB  2023-03-30 01:50:29            486         30  1.0              \n",
            "mehmettahiraslan/customer-shopping-dataset                 Customer Shopping Dataset - Retail Sales Data    2MB  2023-03-09 07:44:35           4898         91  1.0              \n",
            "rajkumarpandey02/list-of-unicorn-startup-companies         List of Unicorn Startup Companies               15KB  2023-03-27 10:19:49            564         36  1.0              \n"
          ]
        }
      ]
    },
    {
      "cell_type": "code",
      "source": [
        "!kaggle datasets download -d shaunthesheep/microsoft-catsvsdogs-dataset"
      ],
      "metadata": {
        "id": "0P6WvZHQljKL",
        "colab": {
          "base_uri": "https://localhost:8080/"
        },
        "outputId": "adf26560-dfaa-4918-9c74-9861e4d6e989"
      },
      "execution_count": 10,
      "outputs": [
        {
          "output_type": "stream",
          "name": "stdout",
          "text": [
            "Warning: Your Kaggle API key is readable by other users on this system! To fix this, you can run 'chmod 600 /root/.kaggle/kaggle.json'\n",
            "Downloading microsoft-catsvsdogs-dataset.zip to /content/efficientnet_model\n",
            " 97% 762M/788M [00:03<00:00, 261MB/s]\n",
            "100% 788M/788M [00:03<00:00, 235MB/s]\n"
          ]
        }
      ]
    },
    {
      "cell_type": "code",
      "source": [
        "!unzip -qq microsoft-catsvsdogs-dataset.zip -d dog_vs_cat"
      ],
      "metadata": {
        "id": "BVr597C1nGqT"
      },
      "execution_count": 11,
      "outputs": []
    },
    {
      "cell_type": "markdown",
      "metadata": {
        "id": "WONAK_7CKY6z"
      },
      "source": [
        "## Download and extract `dog_vs_cat` dataset"
      ]
    },
    {
      "cell_type": "code",
      "metadata": {
        "id": "4OdmlrfP40sc",
        "colab": {
          "base_uri": "https://localhost:8080/"
        },
        "outputId": "43df2912-c84c-4b28-c09f-6be96e2b5d86"
      },
      "source": [
        "!ls dog_vs_cat/PetImages/\n",
        "!ls dog_vs_cat/PetImages/Cat -l -t | head -10"
      ],
      "execution_count": 12,
      "outputs": [
        {
          "output_type": "stream",
          "name": "stdout",
          "text": [
            "Cat  Dog\n",
            "total 408428\n",
            "-rw-r--r-- 1 root root   20039 Mar 12  2020 9372.jpg\n",
            "-rw-r--r-- 1 root root   23514 Mar 12  2020 9373.jpg\n",
            "-rw-r--r-- 1 root root    5367 Mar 12  2020 9374.jpg\n",
            "-rw-r--r-- 1 root root   54616 Mar 12  2020 9375.jpg\n",
            "-rw-r--r-- 1 root root   26728 Mar 12  2020 9376.jpg\n",
            "-rw-r--r-- 1 root root   24099 Mar 12  2020 9377.jpg\n",
            "-rw-r--r-- 1 root root   41794 Mar 12  2020 9378.jpg\n",
            "-rw-r--r-- 1 root root   26466 Mar 12  2020 9379.jpg\n",
            "-rw-r--r-- 1 root root   30844 Mar 12  2020 9380.jpg\n"
          ]
        }
      ]
    },
    {
      "cell_type": "code",
      "metadata": {
        "id": "SOXcZDirjoL4",
        "colab": {
          "base_uri": "https://localhost:8080/"
        },
        "outputId": "784d4a53-14e2-4f72-eb8a-27e729604079"
      },
      "source": [
        "# The path to the directory where the original\n",
        "# dataset was uncompressed\n",
        "original_dataset_dir = './dog_vs_cat/PetImages'\n",
        "\n",
        "cat_images = glob.glob(os.path.join(original_dataset_dir, \"Cat\", '*.jpg'))\n",
        "dog_images = glob.glob(os.path.join(original_dataset_dir, \"Dog\", '*.jpg'))\n",
        "print(\"total cat images: {}\\n\\rtotal dog images: {}\".format(len(cat_images), len(dog_images)))"
      ],
      "execution_count": 13,
      "outputs": [
        {
          "output_type": "stream",
          "name": "stdout",
          "text": [
            "total cat images: 12500\n",
            "\rtotal dog images: 12500\n"
          ]
        }
      ]
    },
    {
      "cell_type": "code",
      "metadata": {
        "id": "IBqtrHVu5iUE"
      },
      "source": [
        "\n",
        "\n",
        "# The directory where we will\n",
        "# store our smaller dataset\n",
        "base_dir = './data/dog_vs_cat_small'\n",
        "os.makedirs(base_dir, exist_ok=True)\n",
        "\n",
        "# Directories for our training,\n",
        "# validation and test splits\n",
        "train_dir = os.path.join(base_dir, 'train')\n",
        "os.makedirs(train_dir, exist_ok=True)\n",
        "validation_dir = os.path.join(base_dir, 'validation')\n",
        "os.makedirs(validation_dir, exist_ok=True)\n",
        "test_dir = os.path.join(base_dir, 'test')\n",
        "os.makedirs(test_dir, exist_ok=True)\n",
        "\n",
        "# Directory with our training cat pictures\n",
        "train_cats_dir = os.path.join(train_dir, 'cats')\n",
        "os.makedirs(train_cats_dir, exist_ok=True)\n",
        "\n",
        "# Directory with our training dog pictures\n",
        "train_dogs_dir = os.path.join(train_dir, 'dogs')\n",
        "os.makedirs(train_dogs_dir, exist_ok=True)\n",
        "\n",
        "# Directory with our validation cat pictures\n",
        "validation_cats_dir = os.path.join(validation_dir, 'cats')\n",
        "os.makedirs(validation_cats_dir, exist_ok=True)\n",
        "\n",
        "# Directory with our validation dog pictures\n",
        "validation_dogs_dir = os.path.join(validation_dir, 'dogs')\n",
        "os.makedirs(validation_dogs_dir, exist_ok=True)\n",
        "\n",
        "# Directory with our validation cat pictures\n",
        "test_cats_dir = os.path.join(test_dir, 'cats')\n",
        "os.makedirs(test_cats_dir, exist_ok=True)\n",
        "\n",
        "# Directory with our validation dog pictures\n",
        "test_dogs_dir = os.path.join(test_dir, 'dogs')\n",
        "os.makedirs(test_dogs_dir, exist_ok=True)\n",
        "\n",
        "# Copy first NUM_TRAIN//2 cat images to train_cats_dir\n",
        "fnames = cat_images[:NUM_TRAIN//2]\n",
        "for fname in fnames:\n",
        "    dst = os.path.join(train_cats_dir, os.path.basename(fname))\n",
        "    shutil.copyfile(fname, dst)\n",
        "\n",
        "offset = NUM_TRAIN//2\n",
        "# Copy next NUM_TEST //2 cat images to validation_cats_dir\n",
        "fnames = cat_images[offset:offset + NUM_TEST // 2]\n",
        "for fname in fnames:\n",
        "    dst = os.path.join(validation_cats_dir, os.path.basename(fname))\n",
        "    shutil.copyfile(fname, dst)\n",
        "offset = offset + NUM_TEST // 2\n",
        "# Copy next NUM_TRAIN//2 cat images to test_cats_dir\n",
        "fnames = cat_images[offset:offset + NUM_TEST // 2]\n",
        "for fname in fnames:\n",
        "    dst = os.path.join(test_cats_dir, os.path.basename(fname))\n",
        "    shutil.copyfile(fname, dst)\n",
        "\n",
        "\n",
        "# Copy first NUM_TRAIN//2 dog images to train_dogs_dir\n",
        "fnames = dog_images[:NUM_TRAIN//2]\n",
        "for fname in fnames:\n",
        "    dst = os.path.join(train_dogs_dir, os.path.basename(fname))\n",
        "    shutil.copyfile(fname, dst)\n",
        "\n",
        "offset = NUM_TRAIN//2\n",
        "# Copy next NUM_TEST // 2 dog images to validation_dogs_dir\n",
        "fnames = dog_images[offset:offset + NUM_TEST // 2]\n",
        "for fname in fnames:\n",
        "    dst = os.path.join(validation_dogs_dir, os.path.basename(fname))\n",
        "    shutil.copyfile(fname, dst)\n",
        "offset = offset + NUM_TEST // 2\n",
        "\n",
        "# Copy next NUM_TEST // 2 dog images to test_dogs_dir\n",
        "fnames = dog_images[offset:offset + NUM_TEST // 2]\n",
        "for fname in fnames:\n",
        "    dst = os.path.join(test_dogs_dir, os.path.basename(fname))\n",
        "    shutil.copyfile(fname, dst)"
      ],
      "execution_count": 14,
      "outputs": []
    },
    {
      "cell_type": "code",
      "metadata": {
        "id": "WyD74zWe56WK",
        "colab": {
          "base_uri": "https://localhost:8080/"
        },
        "outputId": "42261720-20c9-4eaf-f441-0a6bf3bf0cb1"
      },
      "source": [
        "print('total training cat images:', len(os.listdir(train_cats_dir)))\n",
        "print('total training dog images:', len(os.listdir(train_dogs_dir)))\n",
        "print('total validation cat images:', len(os.listdir(validation_cats_dir)))\n",
        "print('total validation dog images:', len(os.listdir(validation_dogs_dir)))\n",
        "print('total test cat images:', len(os.listdir(test_cats_dir)))\n",
        "print('total test dog images:', len(os.listdir(test_dogs_dir)))"
      ],
      "execution_count": 15,
      "outputs": [
        {
          "output_type": "stream",
          "name": "stdout",
          "text": [
            "total training cat images: 1000\n",
            "total training dog images: 1000\n",
            "total validation cat images: 500\n",
            "total validation dog images: 500\n",
            "total test cat images: 500\n",
            "total test dog images: 500\n"
          ]
        }
      ]
    },
    {
      "cell_type": "code",
      "metadata": {
        "id": "D9MM2WA49zyj",
        "colab": {
          "base_uri": "https://localhost:8080/"
        },
        "outputId": "c80639f1-786b-4394-f15e-2791a82e5500"
      },
      "source": [
        "from tensorflow.keras.preprocessing.image import ImageDataGenerator\n",
        "\n",
        "train_datagen = ImageDataGenerator(\n",
        "      rescale=1./255,\n",
        "      rotation_range=40,\n",
        "      width_shift_range=0.2,\n",
        "      height_shift_range=0.2,\n",
        "      shear_range=0.2,\n",
        "      zoom_range=0.2,\n",
        "      horizontal_flip=True,\n",
        "      fill_mode='nearest')\n",
        "\n",
        "# Note that the validation data should not be augmented!\n",
        "test_datagen = ImageDataGenerator(rescale=1./255)\n",
        "\n",
        "train_generator = train_datagen.flow_from_directory(\n",
        "        # This is the target directory\n",
        "        train_dir,\n",
        "        # All images will be resized to target height and width.\n",
        "        target_size=(height, width),\n",
        "        batch_size=batch_size,\n",
        "        # Since we use categorical_crossentropy loss, we need categorical labels\n",
        "        class_mode='categorical')\n",
        "\n",
        "validation_generator = test_datagen.flow_from_directory(\n",
        "        validation_dir,\n",
        "        target_size=(height, width),\n",
        "        batch_size=batch_size,\n",
        "        class_mode='categorical')"
      ],
      "execution_count": 16,
      "outputs": [
        {
          "output_type": "stream",
          "name": "stdout",
          "text": [
            "Found 2000 images belonging to 2 classes.\n",
            "Found 1000 images belonging to 2 classes.\n"
          ]
        }
      ]
    },
    {
      "cell_type": "code",
      "metadata": {
        "id": "lgjoz26l-HfD"
      },
      "source": [
        "model = models.Sequential()\n",
        "model.add(conv_base)\n",
        "model.add(layers.GlobalMaxPooling2D(name=\"gap\"))\n",
        "# model.add(layers.Flatten(name=\"flatten\"))\n",
        "if dropout_rate > 0:\n",
        "    model.add(layers.Dropout(dropout_rate, name=\"dropout_out\"))\n",
        "# model.add(layers.Dense(256, activation='relu', name=\"fc1\"))\n",
        "model.add(layers.Dense(2, activation='softmax', name=\"fc_out\"))"
      ],
      "execution_count": 17,
      "outputs": []
    },
    {
      "cell_type": "code",
      "metadata": {
        "id": "4iAX7AegDHUS",
        "colab": {
          "base_uri": "https://localhost:8080/"
        },
        "outputId": "4fdc02e5-92ab-486c-92f1-0c20b4838a37"
      },
      "source": [
        "model.summary()"
      ],
      "execution_count": 18,
      "outputs": [
        {
          "output_type": "stream",
          "name": "stdout",
          "text": [
            "Model: \"sequential\"\n",
            "_________________________________________________________________\n",
            " Layer (type)                Output Shape              Param #   \n",
            "=================================================================\n",
            " efficientnet-b0 (Functional  (None, 5, 5, 1280)       4049564   \n",
            " )                                                               \n",
            "                                                                 \n",
            " gap (GlobalMaxPooling2D)    (None, 1280)              0         \n",
            "                                                                 \n",
            " dropout_out (Dropout)       (None, 1280)              0         \n",
            "                                                                 \n",
            " fc_out (Dense)              (None, 2)                 2562      \n",
            "                                                                 \n",
            "=================================================================\n",
            "Total params: 4,052,126\n",
            "Trainable params: 4,010,110\n",
            "Non-trainable params: 42,016\n",
            "_________________________________________________________________\n"
          ]
        }
      ]
    },
    {
      "cell_type": "code",
      "metadata": {
        "id": "_N-F9Z-uDJAi",
        "colab": {
          "base_uri": "https://localhost:8080/"
        },
        "outputId": "e6f3a277-54fd-4754-f207-67537c7cf38e"
      },
      "source": [
        "print('This is the number of trainable layers '\n",
        "      'before freezing the conv base:', len(model.trainable_weights))\n",
        "\n",
        "conv_base.trainable = False\n",
        "\n",
        "print('This is the number of trainable layers '\n",
        "      'after freezing the conv base:', len(model.trainable_weights))"
      ],
      "execution_count": 19,
      "outputs": [
        {
          "output_type": "stream",
          "name": "stdout",
          "text": [
            "This is the number of trainable layers before freezing the conv base: 213\n",
            "This is the number of trainable layers after freezing the conv base: 2\n"
          ]
        }
      ]
    },
    {
      "cell_type": "code",
      "metadata": {
        "id": "SJHDUrjw2wRG",
        "colab": {
          "base_uri": "https://localhost:8080/"
        },
        "outputId": "16ba18a7-b8d9-4cf8-f83d-1a6a8091fb65"
      },
      "source": [
        "model.compile(loss='categorical_crossentropy',\n",
        "              optimizer=optimizers.RMSprop(learning_rate=2e-5),\n",
        "              metrics=['acc'])\n",
        "history = model.fit(\n",
        "     train_generator,\n",
        "      steps_per_epoch= NUM_TRAIN //batch_size,\n",
        "      epochs=epochs,\n",
        "      validation_data=validation_generator,\n",
        "      validation_steps= NUM_TEST //batch_size,\n",
        "      verbose=1,\n",
        "      use_multiprocessing=True,\n",
        "      workers=4)"
      ],
      "execution_count": 34,
      "outputs": [
        {
          "output_type": "stream",
          "name": "stdout",
          "text": [
            "Epoch 1/20\n",
            "41/41 [==============================] - 31s 579ms/step - loss: 0.4475 - acc: 0.8279 - val_loss: 0.2626 - val_acc: 0.9083\n",
            "Epoch 2/20\n",
            "41/41 [==============================] - 22s 505ms/step - loss: 0.3465 - acc: 0.8562 - val_loss: 0.2469 - val_acc: 0.9271\n",
            "Epoch 3/20\n",
            "41/41 [==============================] - 21s 489ms/step - loss: 0.3478 - acc: 0.8663 - val_loss: 0.2469 - val_acc: 0.9281\n",
            "Epoch 4/20\n",
            "41/41 [==============================] - 17s 392ms/step - loss: 0.3423 - acc: 0.8632 - val_loss: 0.2277 - val_acc: 0.9344\n",
            "Epoch 5/20\n",
            "41/41 [==============================] - 23s 499ms/step - loss: 0.3241 - acc: 0.8678 - val_loss: 0.2433 - val_acc: 0.9281\n",
            "Epoch 6/20\n",
            "41/41 [==============================] - 18s 395ms/step - loss: 0.3229 - acc: 0.8653 - val_loss: 0.2401 - val_acc: 0.9302\n",
            "Epoch 7/20\n",
            "41/41 [==============================] - 25s 529ms/step - loss: 0.3257 - acc: 0.8694 - val_loss: 0.2248 - val_acc: 0.9323\n",
            "Epoch 8/20\n",
            "41/41 [==============================] - 21s 498ms/step - loss: 0.3395 - acc: 0.8509 - val_loss: 0.2119 - val_acc: 0.9385\n",
            "Epoch 9/20\n",
            "41/41 [==============================] - 17s 381ms/step - loss: 0.3224 - acc: 0.8668 - val_loss: 0.2261 - val_acc: 0.9333\n",
            "Epoch 10/20\n",
            "41/41 [==============================] - 19s 397ms/step - loss: 0.3253 - acc: 0.8617 - val_loss: 0.2287 - val_acc: 0.9333\n",
            "Epoch 11/20\n",
            "41/41 [==============================] - 21s 511ms/step - loss: 0.3180 - acc: 0.8796 - val_loss: 0.2357 - val_acc: 0.9302\n",
            "Epoch 12/20\n",
            "41/41 [==============================] - 23s 515ms/step - loss: 0.3225 - acc: 0.8709 - val_loss: 0.2357 - val_acc: 0.9281\n",
            "Epoch 13/20\n",
            "41/41 [==============================] - 16s 371ms/step - loss: 0.3613 - acc: 0.8535 - val_loss: 0.2335 - val_acc: 0.9312\n",
            "Epoch 14/20\n",
            "41/41 [==============================] - 21s 490ms/step - loss: 0.3026 - acc: 0.8765 - val_loss: 0.2307 - val_acc: 0.9292\n",
            "Epoch 15/20\n",
            "41/41 [==============================] - 22s 503ms/step - loss: 0.3396 - acc: 0.8530 - val_loss: 0.2346 - val_acc: 0.9302\n",
            "Epoch 16/20\n",
            "41/41 [==============================] - 23s 506ms/step - loss: 0.3263 - acc: 0.8648 - val_loss: 0.2316 - val_acc: 0.9302\n",
            "Epoch 17/20\n",
            "41/41 [==============================] - 23s 516ms/step - loss: 0.3125 - acc: 0.8683 - val_loss: 0.2299 - val_acc: 0.9302\n",
            "Epoch 18/20\n",
            "41/41 [==============================] - 21s 488ms/step - loss: 0.3036 - acc: 0.8770 - val_loss: 0.2344 - val_acc: 0.9292\n",
            "Epoch 19/20\n",
            "41/41 [==============================] - 17s 368ms/step - loss: 0.3259 - acc: 0.8658 - val_loss: 0.2145 - val_acc: 0.9312\n",
            "Epoch 20/20\n",
            "41/41 [==============================] - 23s 502ms/step - loss: 0.3160 - acc: 0.8704 - val_loss: 0.2255 - val_acc: 0.9292\n"
          ]
        }
      ]
    },
    {
      "cell_type": "code",
      "metadata": {
        "id": "i90iKXuL3CHT",
        "colab": {
          "base_uri": "https://localhost:8080/",
          "height": 887
        },
        "outputId": "7c652efc-3538-4e87-b4c7-011ee7c00cb6"
      },
      "source": [
        "acc = history.history['acc']\n",
        "val_acc = history.history['val_acc']\n",
        "loss = history.history['loss']\n",
        "val_loss = history.history['val_loss']\n",
        "\n",
        "epochs_x = range(len(acc))\n",
        "\n",
        "plt.plot(epochs_x, acc, 'bo', label='Training acc')\n",
        "plt.plot(epochs_x, val_acc, 'b', label='Validation acc')\n",
        "plt.title('Training and validation accuracy')\n",
        "plt.legend()\n",
        "\n",
        "plt.figure()\n",
        "\n",
        "plt.plot(epochs_x, loss, 'bo', label='Training loss')\n",
        "plt.plot(epochs_x, val_loss, 'b', label='Validation loss')\n",
        "plt.title('Training and validation loss')\n",
        "plt.legend()\n",
        "\n",
        "plt.show()"
      ],
      "execution_count": 35,
      "outputs": [
        {
          "output_type": "display_data",
          "data": {
            "text/plain": [
              "<Figure size 640x480 with 1 Axes>"
            ],
            "image/png": "[encoded data removed]"
          },
          "metadata": {}
        },
        {
          "output_type": "display_data",
          "data": {
            "text/plain": [
              "<Figure size 640x480 with 1 Axes>"
            ],
            "image/png": "[encoded data removed]"
          },
          "metadata": {}
        }
      ]
    },
    {
      "cell_type": "markdown",
      "metadata": {
        "id": "4gRv7SwYqT9f"
      },
      "source": [
        "## Fine tuning last several layers."
      ]
    },
    {
      "cell_type": "code",
      "metadata": {
        "id": "yKI8AJxQVB1Q"
      },
      "source": [
        "# multiply_16\n",
        "# set 'multiply_16' and following layers trainable\n",
        "conv_base.trainable = True\n",
        "\n",
        "set_trainable = False\n",
        "for layer in conv_base.layers:\n",
        "    if layer.name == 'multiply_16':\n",
        "        set_trainable = True\n",
        "    if set_trainable:\n",
        "        layer.trainable = True\n",
        "    else:\n",
        "        layer.trainable = False"
      ],
      "execution_count": 36,
      "outputs": []
    },
    {
      "cell_type": "code",
      "source": [
        "model.compile(loss='categorical_crossentropy',\n",
        "              optimizer=optimizers.RMSprop(lr=2e-5),\n",
        "              metrics=['acc'])\n",
        "\n",
        "history = model.fit_generator(\n",
        "      train_generator,\n",
        "      steps_per_epoch= NUM_TRAIN //batch_size,\n",
        "      epochs=epochs,\n",
        "      validation_data=validation_generator,\n",
        "      validation_steps= NUM_TEST //batch_size,\n",
        "      verbose=1,\n",
        "      use_multiprocessing=True,\n",
        "      workers=4)"
      ],
      "metadata": {
        "id": "gE7G1PGOXZUA",
        "colab": {
          "base_uri": "https://localhost:8080/"
        },
        "outputId": "324350cc-8e6c-4bc4-ee05-bac47b895a3c"
      },
      "execution_count": 37,
      "outputs": [
        {
          "output_type": "stream",
          "name": "stderr",
          "text": [
            "WARNING:absl:`lr` is deprecated in Keras optimizer, please use `learning_rate` or use the legacy optimizer, e.g.,tf.keras.optimizers.legacy.RMSprop.\n",
            "<ipython-input-37-4287107a2cee>:5: UserWarning: `Model.fit_generator` is deprecated and will be removed in a future version. Please use `Model.fit`, which supports generators.\n",
            "  history = model.fit_generator(\n"
          ]
        },
        {
          "output_type": "stream",
          "name": "stdout",
          "text": [
            "Epoch 1/20\n",
            "41/41 [==============================] - 31s 507ms/step - loss: 0.4508 - acc: 0.8350 - val_loss: 0.3931 - val_acc: 0.8938\n",
            "Epoch 2/20\n",
            "41/41 [==============================] - 24s 557ms/step - loss: 0.3867 - acc: 0.8463 - val_loss: 0.2614 - val_acc: 0.9229\n",
            "Epoch 3/20\n",
            "41/41 [==============================] - 22s 499ms/step - loss: 0.4087 - acc: 0.8345 - val_loss: 0.2259 - val_acc: 0.9260\n",
            "Epoch 4/20\n",
            "41/41 [==============================] - 23s 536ms/step - loss: 0.3831 - acc: 0.8519 - val_loss: 0.4511 - val_acc: 0.8771\n",
            "Epoch 5/20\n",
            "41/41 [==============================] - 16s 368ms/step - loss: 0.4040 - acc: 0.8489 - val_loss: 0.4824 - val_acc: 0.8667\n",
            "Epoch 6/20\n",
            "41/41 [==============================] - 23s 547ms/step - loss: 0.4388 - acc: 0.8407 - val_loss: 0.2757 - val_acc: 0.9073\n",
            "Epoch 7/20\n",
            "41/41 [==============================] - 17s 394ms/step - loss: 0.3566 - acc: 0.8525 - val_loss: 0.2759 - val_acc: 0.9115\n",
            "Epoch 8/20\n",
            "41/41 [==============================] - 17s 398ms/step - loss: 0.4114 - acc: 0.8386 - val_loss: 0.2420 - val_acc: 0.9250\n",
            "Epoch 9/20\n",
            "41/41 [==============================] - 20s 403ms/step - loss: 0.3448 - acc: 0.8547 - val_loss: 0.3555 - val_acc: 0.9042\n",
            "Epoch 10/20\n",
            "41/41 [==============================] - 19s 445ms/step - loss: 0.3616 - acc: 0.8525 - val_loss: 0.2664 - val_acc: 0.9146\n",
            "Epoch 11/20\n",
            "41/41 [==============================] - 21s 493ms/step - loss: 0.3808 - acc: 0.8494 - val_loss: 0.4642 - val_acc: 0.8698\n",
            "Epoch 12/20\n",
            "41/41 [==============================] - 18s 408ms/step - loss: 0.4116 - acc: 0.8509 - val_loss: 0.2768 - val_acc: 0.9062\n",
            "Epoch 13/20\n",
            "41/41 [==============================] - 21s 491ms/step - loss: 0.3800 - acc: 0.8525 - val_loss: 0.4008 - val_acc: 0.8792\n",
            "Epoch 14/20\n",
            "41/41 [==============================] - 23s 506ms/step - loss: 0.3676 - acc: 0.8581 - val_loss: 0.2349 - val_acc: 0.9271\n",
            "Epoch 15/20\n",
            "41/41 [==============================] - 16s 377ms/step - loss: 0.3941 - acc: 0.8468 - val_loss: 0.5246 - val_acc: 0.8562\n",
            "Epoch 16/20\n",
            "41/41 [==============================] - 21s 492ms/step - loss: 0.3941 - acc: 0.8304 - val_loss: 0.2916 - val_acc: 0.9042\n",
            "Epoch 17/20\n",
            "41/41 [==============================] - 19s 445ms/step - loss: 0.3708 - acc: 0.8571 - val_loss: 0.2682 - val_acc: 0.9125\n",
            "Epoch 18/20\n",
            "41/41 [==============================] - 22s 501ms/step - loss: 0.3853 - acc: 0.8463 - val_loss: 0.2428 - val_acc: 0.9240\n",
            "Epoch 19/20\n",
            "41/41 [==============================] - 21s 496ms/step - loss: 0.3735 - acc: 0.8601 - val_loss: 0.2680 - val_acc: 0.9146\n",
            "Epoch 20/20\n",
            "41/41 [==============================] - 18s 391ms/step - loss: 0.4200 - acc: 0.8484 - val_loss: 0.3359 - val_acc: 0.8958\n"
          ]
        }
      ]
    },
    {
      "cell_type": "code",
      "metadata": {
        "id": "HvVt5TwoEDz6"
      },
      "source": [
        "os.makedirs(\"./models\", exist_ok=True)\n",
        "model.save('./models/cats_and_dogs_small.h5')"
      ],
      "execution_count": 38,
      "outputs": []
    },
    {
      "cell_type": "code",
      "metadata": {
        "id": "65AKWOGiHB5y",
        "colab": {
          "base_uri": "https://localhost:8080/",
          "height": 887
        },
        "outputId": "f09512e2-2a6b-4cd9-c9f6-f63cded2b799"
      },
      "source": [
        "acc = history.history['acc']\n",
        "val_acc = history.history['val_acc']\n",
        "loss = history.history['loss']\n",
        "val_loss = history.history['val_loss']\n",
        "\n",
        "epochs_x = range(len(acc))\n",
        "\n",
        "plt.plot(epochs_x, acc, 'bo', label='Training acc')\n",
        "plt.plot(epochs_x, val_acc, 'b', label='Validation acc')\n",
        "plt.title('Training and validation accuracy')\n",
        "plt.legend()\n",
        "\n",
        "plt.figure()\n",
        "\n",
        "plt.plot(epochs_x, loss, 'bo', label='Training loss')\n",
        "plt.plot(epochs_x, val_loss, 'b', label='Validation loss')\n",
        "plt.title('Training and validation loss')\n",
        "plt.legend()\n",
        "\n",
        "plt.show()"
      ],
      "execution_count": 39,
      "outputs": [
        {
          "output_type": "display_data",
          "data": {
            "text/plain": [
              "<Figure size 640x480 with 1 Axes>"
            ],
            "image/png": "[encoded data removed]"
          },
          "metadata": {}
        },
        {
          "output_type": "display_data",
          "data": {
            "text/plain": [
              "<Figure size 640x480 with 1 Axes>"
            ],
            "image/png": "[encoded data removed]"
          },
          "metadata": {}
        }
      ]
    },
    {
      "cell_type": "markdown",
      "metadata": {
        "id": "bigZr9kjL2sY"
      },
      "source": [
        "## Test predict"
      ]
    },
    {
      "cell_type": "code",
      "metadata": {
        "id": "JWTv_-7CHqZB"
      },
      "source": [
        "cat_img = cat_images[3]\n",
        "dog_img= dog_images[3]"
      ],
      "execution_count": 31,
      "outputs": []
    },
    {
      "cell_type": "code",
      "metadata": {
        "id": "_VFoNC0TLzaf",
        "colab": {
          "base_uri": "https://localhost:8080/",
          "height": 497
        },
        "outputId": "0bbe08e6-d046-4655-fe0c-262d73ef37d4"
      },
      "source": [
        "Image(filename=cat_img)"
      ],
      "execution_count": 29,
      "outputs": [
        {
          "output_type": "execute_result",
          "data": {
            "image/jpeg": "[encoded data removed]",
            "text/plain": [
              "<IPython.core.display.Image object>"
            ]
          },
          "metadata": {},
          "execution_count": 29
        }
      ]
    },
    {
      "cell_type": "code",
      "metadata": {
        "id": "J4euiZSwLyZh",
        "colab": {
          "base_uri": "https://localhost:8080/",
          "height": 139
        },
        "outputId": "bfeb3789-a197-430e-d8b2-ccf04fb08a6f"
      },
      "source": [
        "Image(filename=dog_img)"
      ],
      "execution_count": 32,
      "outputs": [
        {
          "output_type": "execute_result",
          "data": {
            "image/jpeg": "[encoded data removed]",
            "text/plain": [
              "<IPython.core.display.Image object>"
            ]
          },
          "metadata": {},
          "execution_count": 32
        }
      ]
    },
    {
      "cell_type": "code",
      "metadata": {
        "id": "SLDHANW_HPVv",
        "colab": {
          "base_uri": "https://localhost:8080/"
        },
        "outputId": "c3655057-19fc-4f20-865b-b64a3f490acb"
      },
      "source": [
        "from tensorflow.keras.preprocessing import image\n",
        "\n",
        "def predict_image(img_path):\n",
        "    # Read the image and resize it\n",
        "    img = image.load_img(img_path, target_size=(height, width))\n",
        "    # Convert it to a Numpy array with target shape.\n",
        "    x = image.img_to_array(img)\n",
        "    # Reshape\n",
        "    x = x.reshape((1,) + x.shape)\n",
        "    x /= 255.\n",
        "    result = model.predict([x])[0][0]\n",
        "    if result > 0.5:\n",
        "        animal = \"cat\"\n",
        "    else:\n",
        "        animal = \"dog\"\n",
        "        result = 1 - result\n",
        "    return animal,result\n",
        "\n",
        "print(predict_image(cat_img))\n",
        "print(predict_image(dog_img))"
      ],
      "execution_count": 33,
      "outputs": [
        {
          "output_type": "stream",
          "name": "stdout",
          "text": [
            "1/1 [==============================] - 0s 26ms/step\n",
            "('cat', 0.99737895)\n",
            "1/1 [==============================] - 0s 25ms/step\n",
            "('dog', 0.965697206556797)\n"
          ]
        }
      ]
    },
    {
      "cell_type": "markdown",
      "metadata": {
        "id": "ogB16XX3eXaN"
      },
      "source": [
        "## Download the model"
      ]
    },
    {
      "cell_type": "code",
      "metadata": {
        "id": "H_3Zek4eeSXD",
        "colab": {
          "base_uri": "https://localhost:8080/",
          "height": 17
        },
        "outputId": "423d0e56-81e2-4578-c0b1-c788f27c7408"
      },
      "source": [
        "from google.colab import files\n",
        "\n",
        "files.download('./models/cats_and_dogs_small.h5')"
      ],
      "execution_count": 40,
      "outputs": [
        {
          "output_type": "display_data",
          "data": {
            "text/plain": [
              "<IPython.core.display.Javascript object>"
            ],
            "application/javascript": [
              "\n",
              "    async function download(id, filename, size) {\n",
              "      if (!google.colab.kernel.accessAllowed) {\n",
              "        return;\n",
              "      }\n",
              "      const div = document.createElement('div');\n",
              "      const label = document.createElement('label');\n",
              "      label.textContent = `Downloading \"${filename}\": `;\n",
              "      div.appendChild(label);\n",
              "      const progress = document.createElement('progress');\n",
              "      progress.max = size;\n",
              "      div.appendChild(progress);\n",
              "      document.body.appendChild(div);\n",
              "\n",
              "      const buffers = [];\n",
              "      let downloaded = 0;\n",
              "\n",
              "      const channel = await google.colab.kernel.comms.open(id);\n",
              "      // Send a message to notify the kernel that we're ready.\n",
              "      channel.send({})\n",
              "\n",
              "      for await (const message of channel.messages) {\n",
              "        // Send a message to notify the kernel that we're ready.\n",
              "        channel.send({})\n",
              "        if (message.buffers) {\n",
              "          for (const buffer of message.buffers) {\n",
              "            buffers.push(buffer);\n",
              "            downloaded += buffer.byteLength;\n",
              "            progress.value = downloaded;\n",
              "          }\n",
              "        }\n",
              "      }\n",
              "      const blob = new Blob(buffers, {type: 'application/binary'});\n",
              "      const a = document.createElement('a');\n",
              "      a.href = window.URL.createObjectURL(blob);\n",
              "      a.download = filename;\n",
              "      div.appendChild(a);\n",
              "      a.click();\n",
              "      div.remove();\n",
              "    }\n",
              "  "
            ]
          },
          "metadata": {}
        },
        {
          "output_type": "display_data",
          "data": {
            "text/plain": [
              "<IPython.core.display.Javascript object>"
            ],
            "application/javascript": [
              "download(\"download_4dc2a23f-0c27-4220-bace-567166d1a05f\", \"cats_and_dogs_small.h5\", 16603792)"
            ]
          },
          "metadata": {}
        }
      ]
    },
    {
      "cell_type": "code",
      "metadata": {
        "id": "n1rvrVx3CVN0",
        "colab": {
          "base_uri": "https://localhost:8080/"
        },
        "outputId": "e034322f-b4af-4c56-c1dd-81685c19adb4"
      },
      "source": [
        "model.input_shape"
      ],
      "execution_count": 41,
      "outputs": [
        {
          "output_type": "execute_result",
          "data": {
            "text/plain": [
              "(None, 150, 150, 3)"
            ]
          },
          "metadata": {},
          "execution_count": 41
        }
      ]
    },
    {
      "cell_type": "markdown",
      "metadata": {
        "id": "j9O9mCbbVPWk"
      },
      "source": [
        "## Load the model"
      ]
    },
    {
      "cell_type": "code",
      "metadata": {
        "id": "rkBE5AZdwLki"
      },
      "source": [
        "from efficientnet.layers import Swish, DropConnect\n",
        "from efficientnet.model import ConvKernalInitializer\n",
        "from tensorflow.keras.utils import get_custom_objects\n",
        "\n",
        "get_custom_objects().update({\n",
        "    'ConvKernalInitializer': ConvKernalInitializer,\n",
        "    'Swish': Swish,\n",
        "    'DropConnect':DropConnect\n",
        "})"
      ],
      "execution_count": 42,
      "outputs": []
    },
    {
      "cell_type": "code",
      "metadata": {
        "id": "pURT5B8uVFgq"
      },
      "source": [
        "from tensorflow.keras.models import load_model\n",
        "model = load_model(\"./models/cats_and_dogs_small.h5\")"
      ],
      "execution_count": 43,
      "outputs": []
    }
  ]
}